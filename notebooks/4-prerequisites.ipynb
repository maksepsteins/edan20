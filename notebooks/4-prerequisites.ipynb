{
 "cells": [
  {
   "cell_type": "markdown",
   "metadata": {},
   "source": [
    "# Assignment #4: Extracting syntactic groups using machine-learning techniques: Prerequisites\n",
    "Author: Pierre Nugues\n",
    "\n",
    "__You must execute this notebook before your start the assignment.__"
   ]
  },
  {
   "cell_type": "markdown",
   "metadata": {},
   "source": [
    "The goal of the assignment is to create a system to extract syntactic groups from a text. You will apply it to the CoNLL 2000 dataset. \n",
    "\n",
    "In this part, you will collect the datasets and the files you need to train your models. You will also collect the script you need to evaluate them."
   ]
  },
  {
   "cell_type": "markdown",
   "metadata": {},
   "source": [
    "## Collecting a Training and a Test sets"
   ]
  },
  {
   "cell_type": "markdown",
   "metadata": {},
   "source": [
    "As annotated data and annotation scheme, you will use the data available from [CoNLL 2000](https://www.clips.uantwerpen.be/conll2000/chunking/).\n",
    "1. Read the description of the CoNLL 2000 task\n",
    "2. Download both the training and test sets and decompress them. See below\n",
    "\n",
    "CoNLL 2000 is an early dataset and contrary to many current ones, it has no development set.\n",
    "\n",
    "You can also download them from this site: https://huggingface.co/datasets/conll2000"
   ]
  },
  {
   "cell_type": "code",
   "execution_count": 1,
   "metadata": {},
   "outputs": [
    {
     "name": "stdout",
     "output_type": "stream",
     "text": [
      "--2022-09-22 14:36:40--  http://www.clips.uantwerpen.be/conll2000/chunking/train.txt.gz\n",
      "Resolving www.clips.uantwerpen.be (www.clips.uantwerpen.be)... 146.175.13.81\n",
      "Connecting to www.clips.uantwerpen.be (www.clips.uantwerpen.be)|146.175.13.81|:80... connected.\n",
      "HTTP request sent, awaiting response... 301 Moved Permanently\n",
      "Location: https://www.clips.uantwerpen.be/conll2000/chunking/train.txt.gz [following]\n",
      "--2022-09-22 14:36:41--  https://www.clips.uantwerpen.be/conll2000/chunking/train.txt.gz\n",
      "Connecting to www.clips.uantwerpen.be (www.clips.uantwerpen.be)|146.175.13.81|:443... connected.\n",
      "HTTP request sent, awaiting response... 200 OK\n",
      "Length: 611540 (597K) [application/x-gzip]\n",
      "Saving to: 'train.txt.gz'\n",
      "\n",
      "train.txt.gz        100%[===================>] 597.21K  3.58MB/s    in 0.2s    \n",
      "\n",
      "2022-09-22 14:36:41 (3.58 MB/s) - 'train.txt.gz' saved [611540/611540]\n",
      "\n",
      "--2022-09-22 14:36:41--  http://www.clips.uantwerpen.be/conll2000/chunking/test.txt.gz\n",
      "Resolving www.clips.uantwerpen.be (www.clips.uantwerpen.be)... 146.175.13.81\n",
      "Connecting to www.clips.uantwerpen.be (www.clips.uantwerpen.be)|146.175.13.81|:80... connected.\n",
      "HTTP request sent, awaiting response... 301 Moved Permanently\n",
      "Location: https://www.clips.uantwerpen.be/conll2000/chunking/test.txt.gz [following]\n",
      "--2022-09-22 14:36:41--  https://www.clips.uantwerpen.be/conll2000/chunking/test.txt.gz\n",
      "Connecting to www.clips.uantwerpen.be (www.clips.uantwerpen.be)|146.175.13.81|:443... connected.\n",
      "HTTP request sent, awaiting response... 200 OK\n",
      "Length: 139551 (136K) [application/x-gzip]\n",
      "Saving to: 'test.txt.gz'\n",
      "\n",
      "test.txt.gz         100%[===================>] 136.28K  --.-KB/s    in 0.1s    \n",
      "\n",
      "2022-09-22 14:36:42 (1.26 MB/s) - 'test.txt.gz' saved [139551/139551]\n",
      "\n"
     ]
    }
   ],
   "source": [
    "# !wget http://www.clips.uantwerpen.be/conll2000/chunking/train.txt.gz\n",
    "# !wget http://www.clips.uantwerpen.be/conll2000/chunking/test.txt.gz"
   ]
  },
  {
   "cell_type": "code",
   "execution_count": 2,
   "metadata": {},
   "outputs": [],
   "source": [
    "# !gunzip train.txt.gz\n",
    "# !gunzip test.txt.gz"
   ]
  },
  {
   "cell_type": "code",
   "execution_count": null,
   "metadata": {},
   "outputs": [],
   "source": [
    "# !mkdir corpus\n",
    "# !mv train.txt test.txt corpus"
   ]
  },
  {
   "cell_type": "markdown",
   "metadata": {},
   "source": [
    "## The evaluation script\n",
    "\n",
    "You will train the models with the training set and the test set to evaluate them. For this, you will apply the `conlleval` script that will compute the harmonic mean of the precision and recall: F1. \n",
    "\n",
    "`conlleval` was written in Perl. Some people rewrote it in Python and you will use such such a translation in this lab. The line below installs it. The source code is available from this address: https://github.com/kaniblu/conlleval"
   ]
  },
  {
   "cell_type": "code",
   "execution_count": 1,
   "metadata": {},
   "outputs": [
    {
     "name": "stdout",
     "output_type": "stream",
     "text": [
      "Defaulting to user installation because normal site-packages is not writeable\n",
      "Collecting conlleval\n",
      "  Using cached conlleval-0.2-py3-none-any.whl (5.4 kB)\n",
      "Installing collected packages: conlleval\n",
      "Successfully installed conlleval-0.2\n"
     ]
    }
   ],
   "source": [
    "!pip install conlleval"
   ]
  },
  {
   "cell_type": "markdown",
   "metadata": {},
   "source": [
    "## Collecting the Embeddings"
   ]
  },
  {
   "cell_type": "markdown",
   "metadata": {},
   "source": [
    "You will represent the words with dense vectors, instead of a one-hot encoding. GloVe embeddings is one such representation. The Glove files contain a list of words, where each word is represented by a vector of a fixed dimension. In this notebook, we will use the file of 400,000 lowercase words with the 100-dimensional vectors.\n",
    "Download either:\n",
    "*  The GloVe embeddings 6B from <a href=\"https://nlp.stanford.edu/projects/glove/\">https://nlp.stanford.edu/projects/glove/</a> and keep the 100d vectors; or\n",
    "* A local copy of this dataset with the cell below (faster)"
   ]
  },
  {
   "cell_type": "code",
   "execution_count": 6,
   "metadata": {},
   "outputs": [
    {
     "name": "stdout",
     "output_type": "stream",
     "text": [
      "--2022-09-22 14:42:15--  https://fileadmin.cs.lth.se/nlp/nobackup/embeddings/nobackup/glove.6B.100d.txt.gz\n",
      "Resolving fileadmin.cs.lth.se (fileadmin.cs.lth.se)... 130.235.16.7\n",
      "Connecting to fileadmin.cs.lth.se (fileadmin.cs.lth.se)|130.235.16.7|:443... connected.\n",
      "HTTP request sent, awaiting response... 200 OK\n",
      "Length: 134409071 (128M) [application/x-gzip]\n",
      "Saving to: ‘glove.6B.100d.txt.gz’\n",
      "\n",
      "glove.6B.100d.txt.g 100%[===================>] 128,18M  43,6MB/s    in 2,9s    \n",
      "\n",
      "2022-09-22 14:42:18 (43,6 MB/s) - ‘glove.6B.100d.txt.gz’ saved [134409071/134409071]\n",
      "\n"
     ]
    }
   ],
   "source": [
    "!wget https://fileadmin.cs.lth.se/nlp/nobackup/embeddings/nobackup/glove.6B.100d.txt.gz"
   ]
  },
  {
   "cell_type": "code",
   "execution_count": 7,
   "metadata": {},
   "outputs": [],
   "source": [
    "!gunzip glove.6B.100d.txt.gz\n",
    "!mv glove.6B.100d.txt corpus"
   ]
  }
 ],
 "metadata": {
  "kernelspec": {
   "display_name": "Python 3.10.6",
   "language": "python",
   "name": "python3"
  },
  "language_info": {
   "codemirror_mode": {
    "name": "ipython",
    "version": 3
   },
   "file_extension": ".py",
   "mimetype": "text/x-python",
   "name": "python",
   "nbconvert_exporter": "python",
   "pygments_lexer": "ipython3",
   "version": "3.10.6"
  },
  "orig_nbformat": 4,
  "vscode": {
   "interpreter": {
    "hash": "5a9961badf05e855b9d0344d932914e1c5d9a89a97f24b38b95dcd35708a58ab"
   }
  }
 },
 "nbformat": 4,
 "nbformat_minor": 2
}
